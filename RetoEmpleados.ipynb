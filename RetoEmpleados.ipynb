{
  "nbformat": 4,
  "nbformat_minor": 0,
  "metadata": {
    "colab": {
      "provenance": [],
      "authorship_tag": "ABX9TyMjzz2wDUVl0NvUj2ZBASu9",
      "include_colab_link": true
    },
    "kernelspec": {
      "name": "python3",
      "display_name": "Python 3"
    },
    "language_info": {
      "name": "python"
    }
  },
  "cells": [
    {
      "cell_type": "markdown",
      "metadata": {
        "id": "view-in-github",
        "colab_type": "text"
      },
      "source": [
        "<a href=\"https://colab.research.google.com/github/wcruzIntercam1/DataScience/blob/main/RetoEmpleados.ipynb\" target=\"_parent\"><img src=\"https://colab.research.google.com/assets/colab-badge.svg\" alt=\"Open In Colab\"/></a>"
      ]
    },
    {
      "cell_type": "code",
      "execution_count": null,
      "metadata": {
        "id": "hVG83sbMdb_6",
        "colab": {
          "base_uri": "https://localhost:8080/"
        },
        "outputId": "31a4dcd2-c199-4688-bed8-74e603ce76e1"
      },
      "outputs": [
        {
          "output_type": "stream",
          "name": "stdout",
          "text": [
            "Mounted at /content/gdrive\n"
          ]
        }
      ],
      "source": [
        "# Montamos Google Drive donde vamos a leer nuestros recursos (archivos)\n",
        "from google.colab import drive \n",
        "drive.mount('/content/gdrive') "
      ]
    },
    {
      "cell_type": "code",
      "source": [
        "##Importar la librería pandas\n",
        "import pandas as pd"
      ],
      "metadata": {
        "id": "aa_1xtBAdudF"
      },
      "execution_count": null,
      "outputs": []
    },
    {
      "cell_type": "code",
      "source": [
        "## 2. Extraer la información del archivo Test.csv\n",
        "EmpleadosAttrition= pd.read_csv(\"/content/gdrive/MyDrive/Colab Notebooks/Caracteristicas/empleadosRETO.csv\")\n",
        "EmpleadosAttrition"
      ],
      "metadata": {
        "id": "MAxXRCy3dxPM"
      },
      "execution_count": null,
      "outputs": []
    },
    {
      "cell_type": "code",
      "source": [
        "## 3. Eliminarcolumnas que no tienen relacion con la salida\n",
        "EmpleadosAttrition.drop(['EmployeeCount', 'EmployeeNumber', 'Over18', 'StandardHours'], axis=1)\n"
      ],
      "metadata": {
        "id": "3kq3Rn9OolDn"
      },
      "execution_count": null,
      "outputs": []
    },
    {
      "cell_type": "code",
      "source": [
        "## 4. Calcular años empleado\n",
        "EmpleadosAttrition['Year'] =EmpleadosAttrition['HiringDate'].str[-4:].astype(int)\n"
      ],
      "metadata": {
        "id": "rais1-OxZ4mq"
      },
      "execution_count": null,
      "outputs": []
    },
    {
      "cell_type": "code",
      "source": [
        "## 4. Calcular años empleado\n",
        "EmpleadosAttrition['YearsAtCompany']=  2023-EmpleadosAttrition['Year']\n"
      ],
      "metadata": {
        "id": "3RYqbztJM5yb"
      },
      "execution_count": null,
      "outputs": []
    },
    {
      "cell_type": "code",
      "source": [
        "##  5. Crear nueva variable DistnaceFRom Home sin kilometros\n",
        "EmpleadosAttrition=EmpleadosAttrition.rename(columns={'DistanceFromHome':'DistanceFromHome_km'})\n",
        "EmpleadosAttrition['DistanceFromHome']=EmpleadosAttrition['DistanceFromHome_km'].str.split(pat=' ').str[0].astype(int)\n"
      ],
      "metadata": {
        "id": "XKvsi8Wim7vP"
      },
      "execution_count": null,
      "outputs": []
    },
    {
      "cell_type": "code",
      "source": [
        "## 6. Borrar Year, HiringDate y DistanceFromHome_km \n",
        "EmpleadosAttrition.drop(['Year', 'HiringDate', 'DistanceFromHome_km'], axis=1)\n"
      ],
      "metadata": {
        "id": "YuxHxiFJnWPA"
      },
      "execution_count": null,
      "outputs": []
    },
    {
      "cell_type": "code",
      "source": [
        "##  7. Calcular SueldoPromedioDepto \n",
        "SueldoPromedioDepto = pd.DataFrame()\n",
        "SueldoPromedioDepto['SueldoPromedio']=EmpleadosAttrition.groupby('Department')[['MonthlyIncome']].mean()\n",
        "SueldoPromedioDepto\n",
        "\n"
      ],
      "metadata": {
        "id": "8O2kUkso8hCv",
        "colab": {
          "base_uri": "https://localhost:8080/",
          "height": 175
        },
        "outputId": "7d2e6fe5-ad03-4acc-addc-4554b71d1777"
      },
      "execution_count": null,
      "outputs": [
        {
          "output_type": "execute_result",
          "data": {
            "text/plain": [
              "                        SueldoPromedio\n",
              "Department                            \n",
              "Human Resources            6239.888889\n",
              "Research & Development     6804.149813\n",
              "Sales                      7188.250000"
            ],
            "text/html": [
              "\n",
              "  <div id=\"df-360875a3-5d6d-4502-8c58-9c9fb20e59c5\">\n",
              "    <div class=\"colab-df-container\">\n",
              "      <div>\n",
              "<style scoped>\n",
              "    .dataframe tbody tr th:only-of-type {\n",
              "        vertical-align: middle;\n",
              "    }\n",
              "\n",
              "    .dataframe tbody tr th {\n",
              "        vertical-align: top;\n",
              "    }\n",
              "\n",
              "    .dataframe thead th {\n",
              "        text-align: right;\n",
              "    }\n",
              "</style>\n",
              "<table border=\"1\" class=\"dataframe\">\n",
              "  <thead>\n",
              "    <tr style=\"text-align: right;\">\n",
              "      <th></th>\n",
              "      <th>SueldoPromedio</th>\n",
              "    </tr>\n",
              "    <tr>\n",
              "      <th>Department</th>\n",
              "      <th></th>\n",
              "    </tr>\n",
              "  </thead>\n",
              "  <tbody>\n",
              "    <tr>\n",
              "      <th>Human Resources</th>\n",
              "      <td>6239.888889</td>\n",
              "    </tr>\n",
              "    <tr>\n",
              "      <th>Research &amp; Development</th>\n",
              "      <td>6804.149813</td>\n",
              "    </tr>\n",
              "    <tr>\n",
              "      <th>Sales</th>\n",
              "      <td>7188.250000</td>\n",
              "    </tr>\n",
              "  </tbody>\n",
              "</table>\n",
              "</div>\n",
              "      <button class=\"colab-df-convert\" onclick=\"convertToInteractive('df-360875a3-5d6d-4502-8c58-9c9fb20e59c5')\"\n",
              "              title=\"Convert this dataframe to an interactive table.\"\n",
              "              style=\"display:none;\">\n",
              "        \n",
              "  <svg xmlns=\"http://www.w3.org/2000/svg\" height=\"24px\"viewBox=\"0 0 24 24\"\n",
              "       width=\"24px\">\n",
              "    <path d=\"M0 0h24v24H0V0z\" fill=\"none\"/>\n",
              "    <path d=\"M18.56 5.44l.94 2.06.94-2.06 2.06-.94-2.06-.94-.94-2.06-.94 2.06-2.06.94zm-11 1L8.5 8.5l.94-2.06 2.06-.94-2.06-.94L8.5 2.5l-.94 2.06-2.06.94zm10 10l.94 2.06.94-2.06 2.06-.94-2.06-.94-.94-2.06-.94 2.06-2.06.94z\"/><path d=\"M17.41 7.96l-1.37-1.37c-.4-.4-.92-.59-1.43-.59-.52 0-1.04.2-1.43.59L10.3 9.45l-7.72 7.72c-.78.78-.78 2.05 0 2.83L4 21.41c.39.39.9.59 1.41.59.51 0 1.02-.2 1.41-.59l7.78-7.78 2.81-2.81c.8-.78.8-2.07 0-2.86zM5.41 20L4 18.59l7.72-7.72 1.47 1.35L5.41 20z\"/>\n",
              "  </svg>\n",
              "      </button>\n",
              "      \n",
              "  <style>\n",
              "    .colab-df-container {\n",
              "      display:flex;\n",
              "      flex-wrap:wrap;\n",
              "      gap: 12px;\n",
              "    }\n",
              "\n",
              "    .colab-df-convert {\n",
              "      background-color: #E8F0FE;\n",
              "      border: none;\n",
              "      border-radius: 50%;\n",
              "      cursor: pointer;\n",
              "      display: none;\n",
              "      fill: #1967D2;\n",
              "      height: 32px;\n",
              "      padding: 0 0 0 0;\n",
              "      width: 32px;\n",
              "    }\n",
              "\n",
              "    .colab-df-convert:hover {\n",
              "      background-color: #E2EBFA;\n",
              "      box-shadow: 0px 1px 2px rgba(60, 64, 67, 0.3), 0px 1px 3px 1px rgba(60, 64, 67, 0.15);\n",
              "      fill: #174EA6;\n",
              "    }\n",
              "\n",
              "    [theme=dark] .colab-df-convert {\n",
              "      background-color: #3B4455;\n",
              "      fill: #D2E3FC;\n",
              "    }\n",
              "\n",
              "    [theme=dark] .colab-df-convert:hover {\n",
              "      background-color: #434B5C;\n",
              "      box-shadow: 0px 1px 3px 1px rgba(0, 0, 0, 0.15);\n",
              "      filter: drop-shadow(0px 1px 2px rgba(0, 0, 0, 0.3));\n",
              "      fill: #FFFFFF;\n",
              "    }\n",
              "  </style>\n",
              "\n",
              "      <script>\n",
              "        const buttonEl =\n",
              "          document.querySelector('#df-360875a3-5d6d-4502-8c58-9c9fb20e59c5 button.colab-df-convert');\n",
              "        buttonEl.style.display =\n",
              "          google.colab.kernel.accessAllowed ? 'block' : 'none';\n",
              "\n",
              "        async function convertToInteractive(key) {\n",
              "          const element = document.querySelector('#df-360875a3-5d6d-4502-8c58-9c9fb20e59c5');\n",
              "          const dataTable =\n",
              "            await google.colab.kernel.invokeFunction('convertToInteractive',\n",
              "                                                     [key], {});\n",
              "          if (!dataTable) return;\n",
              "\n",
              "          const docLinkHtml = 'Like what you see? Visit the ' +\n",
              "            '<a target=\"_blank\" href=https://colab.research.google.com/notebooks/data_table.ipynb>data table notebook</a>'\n",
              "            + ' to learn more about interactive tables.';\n",
              "          element.innerHTML = '';\n",
              "          dataTable['output_type'] = 'display_data';\n",
              "          await google.colab.output.renderOutput(dataTable, element);\n",
              "          const docLink = document.createElement('div');\n",
              "          docLink.innerHTML = docLinkHtml;\n",
              "          element.appendChild(docLink);\n",
              "        }\n",
              "      </script>\n",
              "    </div>\n",
              "  </div>\n",
              "  "
            ]
          },
          "metadata": {},
          "execution_count": 15
        }
      ]
    },
    {
      "cell_type": "code",
      "source": [
        "from sklearn import preprocessing"
      ],
      "metadata": {
        "id": "l9yLl5bP1IPs"
      },
      "execution_count": null,
      "outputs": []
    },
    {
      "cell_type": "code",
      "source": [
        "## 8. Escalar  MonthlyIncome  este manda error porque en el DF hay variables que no son numericas\n",
        "##Manda error porque hay colunas no  \n",
        "escalador=preprocessing.MinMaxScaler()\n",
        "frame_escalado=escalador.fit_transform(EmpleadosAttrition)\n",
        "EmpleadosAttrition[\"MonthlyIncomeNorm\"]=pd.Series(frame_escalado[15:15])"
      ],
      "metadata": {
        "id": "RlGnbsCw3-mU"
      },
      "execution_count": null,
      "outputs": []
    },
    {
      "cell_type": "code",
      "source": [
        "##Genero un frame de variables numercas unicamente porque si no , no pdia hacer el escalado de MonthlyIncome\n",
        "numericas = EmpleadosAttrition[['Age', 'Education', 'EnvironmentSatisfaction','JobInvolvement','JobLevel', 'JobSatisfaction','MonthlyIncome','NumCompaniesWorked','PercentSalaryHike','PerformanceRating','RelationshipSatisfaction','StandardHours','TotalWorkingYears','TrainingTimesLastYear','WorkLifeBalance','YearsInCurrentRole','YearsSinceLastPromotion','YearsAtCompany','DistanceFromHome' ]] \n",
        "numericas"
      ],
      "metadata": {
        "id": "hKiA1rz-O9Sf"
      },
      "execution_count": null,
      "outputs": []
    },
    {
      "cell_type": "code",
      "source": [
        "## 8. Escalar  MonthlyIncome ya en el df Numericos\n",
        "from sklearn.preprocessing import MinMaxScaler\n",
        "escalador=preprocessing.MinMaxScaler()\n",
        "##frame_escalado2=escalador.fit_transform(numericas)\n",
        "frame_escalado=escalador.fit(numericas)\n",
        "print(frame_escalado)\n",
        "##print(escalador.transform(numericas))\n",
        "numericas1=escalador.transform(numericas)\n",
        "##numericas1\n",
        "print (pd.Series(numericas1[6:,6]))\n",
        "##numericas1['MonthlyIncomeEsc']=pd.Series(numericas1[6:,6])  ##.astype(float)\n"
      ],
      "metadata": {
        "id": "lat39s5uJ468",
        "colab": {
          "base_uri": "https://localhost:8080/"
        },
        "outputId": "19dd13df-fd8f-4af8-8999-8ac2add565d7"
      },
      "execution_count": null,
      "outputs": [
        {
          "output_type": "stream",
          "name": "stdout",
          "text": [
            "MinMaxScaler()\n",
            "0      0.198587\n",
            "1      0.229857\n",
            "2      0.519194\n",
            "3      0.214195\n",
            "4      0.073666\n",
            "         ...   \n",
            "389    0.075248\n",
            "390    0.187197\n",
            "391    0.589327\n",
            "392    0.121124\n",
            "393    0.092122\n",
            "Length: 394, dtype: float64\n"
          ]
        }
      ]
    },
    {
      "cell_type": "code",
      "source": [
        "one_hot = pd.get_dummies(EmpleadosAttrition['BusinessTravel'])\n",
        "EmpleadosAttrition = EmpleadosAttrition.drop('BusinessTravel',axis = 1)\n",
        "EmpleadosAttrition = EmpleadosAttrition.join(one_hot)"
      ],
      "metadata": {
        "id": "4iVeHEYPYnL-"
      },
      "execution_count": null,
      "outputs": []
    },
    {
      "cell_type": "code",
      "source": [
        "##Convierte categoricas a numericas"
      ],
      "metadata": {
        "id": "fGX4qgWlkAvC"
      },
      "execution_count": null,
      "outputs": []
    },
    {
      "cell_type": "code",
      "source": [
        "one_hot = pd.get_dummies(EmpleadosAttrition['Department'])\n",
        "EmpleadosAttrition = EmpleadosAttrition.drop('Department',axis = 1)\n",
        "EmpleadosAttrition = EmpleadosAttrition.join(one_hot)"
      ],
      "metadata": {
        "id": "q9oVRo_CY6Hd"
      },
      "execution_count": null,
      "outputs": []
    },
    {
      "cell_type": "code",
      "source": [
        "##La renonvre porque otra variable tiene una categoria igual\n",
        "EmpleadosAttrition=EmpleadosAttrition.rename(columns={'Human Resources':'Human ResourcesDep'})"
      ],
      "metadata": {
        "id": "vwYkaNpNZ673"
      },
      "execution_count": null,
      "outputs": []
    },
    {
      "cell_type": "code",
      "source": [
        "one_hot = pd.get_dummies(EmpleadosAttrition['EducationField'])\n",
        "EmpleadosAttrition = EmpleadosAttrition.drop('EducationField',axis = 1)\n",
        "EmpleadosAttrition = EmpleadosAttrition.join(one_hot)"
      ],
      "metadata": {
        "id": "ZXf3EnciZAWX"
      },
      "execution_count": null,
      "outputs": []
    },
    {
      "cell_type": "code",
      "source": [
        "one_hot = pd.get_dummies(EmpleadosAttrition['Gender'])\n",
        "EmpleadosAttrition = EmpleadosAttrition.drop('Gender',axis = 1)\n",
        "EmpleadosAttrition = EmpleadosAttrition.join(one_hot)"
      ],
      "metadata": {
        "id": "OwptHJQ2Zk_p"
      },
      "execution_count": null,
      "outputs": []
    },
    {
      "cell_type": "code",
      "source": [
        "one_hot = pd.get_dummies(EmpleadosAttrition['JobRole']) \n",
        "EmpleadosAttrition = EmpleadosAttrition.drop('JobRole',axis = 1)\n",
        "EmpleadosAttrition = EmpleadosAttrition.join(one_hot)"
      ],
      "metadata": {
        "id": "ki6y5iuAaLNt"
      },
      "execution_count": null,
      "outputs": []
    },
    {
      "cell_type": "code",
      "source": [
        "one_hot = pd.get_dummies(EmpleadosAttrition['MaritalStatus'])\n",
        "EmpleadosAttrition = EmpleadosAttrition.drop('MaritalStatus',axis = 1)\n",
        "EmpleadosAttrition = EmpleadosAttrition.join(one_hot)"
      ],
      "metadata": {
        "id": "uwWjJyWGaQ_a"
      },
      "execution_count": null,
      "outputs": []
    },
    {
      "cell_type": "code",
      "source": [
        "one_hot = pd.get_dummies(EmpleadosAttrition['Attrition'])\n",
        "EmpleadosAttrition = EmpleadosAttrition.drop('Attrition',axis = 1)\n",
        "EmpleadosAttrition = EmpleadosAttrition.join(one_hot)"
      ],
      "metadata": {
        "id": "VBJIA1iQaXN8"
      },
      "execution_count": null,
      "outputs": []
    },
    {
      "cell_type": "code",
      "source": [
        "## 10. Calcula correlacion"
      ],
      "metadata": {
        "id": "zdFq-OqBkbZB"
      },
      "execution_count": null,
      "outputs": []
    },
    {
      "cell_type": "code",
      "source": [
        "EmpleadosAttrition.info()"
      ],
      "metadata": {
        "id": "gMKBqvyHk45d"
      },
      "execution_count": null,
      "outputs": []
    },
    {
      "cell_type": "code",
      "source": [
        "EmpleadosAttrition['Age'].corr(EmpleadosAttrition['Yes'])"
      ],
      "metadata": {
        "id": "ZyacRPZcansW",
        "colab": {
          "base_uri": "https://localhost:8080/"
        },
        "outputId": "87d261e3-2160-468c-fc02-b7edb0e361f5"
      },
      "execution_count": null,
      "outputs": [
        {
          "output_type": "execute_result",
          "data": {
            "text/plain": [
              "-0.21212111259206842"
            ]
          },
          "metadata": {},
          "execution_count": 29
        }
      ]
    },
    {
      "cell_type": "code",
      "source": [
        "EmpleadosAttrition['Education'].corr(EmpleadosAttrition['Yes'])\n"
      ],
      "metadata": {
        "colab": {
          "base_uri": "https://localhost:8080/"
        },
        "id": "sOtQT1pUDGrh",
        "outputId": "60411233-e053-4744-c7fd-b8dfddc8e186"
      },
      "execution_count": null,
      "outputs": [
        {
          "output_type": "execute_result",
          "data": {
            "text/plain": [
              "-0.05553079310984968"
            ]
          },
          "metadata": {},
          "execution_count": 30
        }
      ]
    },
    {
      "cell_type": "code",
      "source": [
        "EmpleadosAttrition['EnvironmentSatisfaction'].corr(EmpleadosAttrition['Yes'])"
      ],
      "metadata": {
        "colab": {
          "base_uri": "https://localhost:8080/"
        },
        "id": "CY67FIv9DVho",
        "outputId": "52d8af08-c466-4b17-cb95-15ec01408c79"
      },
      "execution_count": null,
      "outputs": [
        {
          "output_type": "execute_result",
          "data": {
            "text/plain": [
              "-0.12432694416927642"
            ]
          },
          "metadata": {},
          "execution_count": 31
        }
      ]
    },
    {
      "cell_type": "code",
      "source": [
        "EmpleadosAttrition['JobInvolvement'].corr(EmpleadosAttrition['Yes'])"
      ],
      "metadata": {
        "colab": {
          "base_uri": "https://localhost:8080/"
        },
        "id": "u_D_sI2tDb--",
        "outputId": "398fe8f2-52dc-43c3-9d50-28dedb165a9a"
      },
      "execution_count": null,
      "outputs": [
        {
          "output_type": "execute_result",
          "data": {
            "text/plain": [
              "-0.16678478967808572"
            ]
          },
          "metadata": {},
          "execution_count": 32
        }
      ]
    },
    {
      "cell_type": "code",
      "source": [
        "EmpleadosAttrition['JobLevel'].corr(EmpleadosAttrition['Yes'])"
      ],
      "metadata": {
        "colab": {
          "base_uri": "https://localhost:8080/"
        },
        "id": "ivX_F8D8DhEh",
        "outputId": "62ee4184-9b63-4345-93f0-69ece662dbb0"
      },
      "execution_count": null,
      "outputs": [
        {
          "output_type": "execute_result",
          "data": {
            "text/plain": [
              "-0.21426604317577613"
            ]
          },
          "metadata": {},
          "execution_count": 33
        }
      ]
    },
    {
      "cell_type": "code",
      "source": [
        "EmpleadosAttrition['JobSatisfaction'].corr(EmpleadosAttrition['Yes'])"
      ],
      "metadata": {
        "colab": {
          "base_uri": "https://localhost:8080/"
        },
        "id": "Ynuwj6IODm7q",
        "outputId": "b3c2fc4b-8224-4873-a053-bcd254156c00"
      },
      "execution_count": null,
      "outputs": [
        {
          "output_type": "execute_result",
          "data": {
            "text/plain": [
              "-0.16495679045325196"
            ]
          },
          "metadata": {},
          "execution_count": 34
        }
      ]
    },
    {
      "cell_type": "code",
      "source": [
        "EmpleadosAttrition['NumCompaniesWorked'].corr(EmpleadosAttrition['Yes'])"
      ],
      "metadata": {
        "colab": {
          "base_uri": "https://localhost:8080/"
        },
        "id": "Aa1dH0_GDsHT",
        "outputId": "58d49d40-81fa-46ae-caca-0aeef07ce33a"
      },
      "execution_count": null,
      "outputs": [
        {
          "output_type": "execute_result",
          "data": {
            "text/plain": [
              "-0.009081775325922558"
            ]
          },
          "metadata": {},
          "execution_count": 35
        }
      ]
    },
    {
      "cell_type": "code",
      "source": [
        "EmpleadosAttrition['PercentSalaryHike'].corr(EmpleadosAttrition['Yes'])"
      ],
      "metadata": {
        "colab": {
          "base_uri": "https://localhost:8080/"
        },
        "id": "gIiEl84CDwcJ",
        "outputId": "6d1fe22a-102e-487f-e26b-74fff8ff2373"
      },
      "execution_count": null,
      "outputs": [
        {
          "output_type": "execute_result",
          "data": {
            "text/plain": [
              "-0.06087967966387507"
            ]
          },
          "metadata": {},
          "execution_count": 36
        }
      ]
    },
    {
      "cell_type": "code",
      "source": [
        "EmpleadosAttrition['PerformanceRating'].corr(EmpleadosAttrition['Yes'])"
      ],
      "metadata": {
        "colab": {
          "base_uri": "https://localhost:8080/"
        },
        "id": "yPvZJQVmXR4N",
        "outputId": "795e440c-8b36-4586-ec90-36efe5163fb4"
      },
      "execution_count": null,
      "outputs": [
        {
          "output_type": "execute_result",
          "data": {
            "text/plain": [
              "-0.00647103495364531"
            ]
          },
          "metadata": {},
          "execution_count": 37
        }
      ]
    },
    {
      "cell_type": "code",
      "source": [
        "EmpleadosAttrition['RelationshipSatisfaction'].corr(EmpleadosAttrition['Yes'])"
      ],
      "metadata": {
        "colab": {
          "base_uri": "https://localhost:8080/"
        },
        "id": "uhbwt4CvXV4n",
        "outputId": "6caa83c8-f22a-4551-d192-6515a430ae62"
      },
      "execution_count": null,
      "outputs": [
        {
          "output_type": "execute_result",
          "data": {
            "text/plain": [
              "-0.030944530658143576"
            ]
          },
          "metadata": {},
          "execution_count": 38
        }
      ]
    },
    {
      "cell_type": "code",
      "source": [
        "EmpleadosAttrition['TotalWorkingYears'].corr(EmpleadosAttrition['Yes'])"
      ],
      "metadata": {
        "colab": {
          "base_uri": "https://localhost:8080/"
        },
        "id": "PSdZc3AlXaut",
        "outputId": "de85f990-1da7-4fee-bec7-32b7f0b7645c"
      },
      "execution_count": null,
      "outputs": [
        {
          "output_type": "execute_result",
          "data": {
            "text/plain": [
              "-0.21332903741456125"
            ]
          },
          "metadata": {},
          "execution_count": 39
        }
      ]
    },
    {
      "cell_type": "code",
      "source": [
        "EmpleadosAttrition['TrainingTimesLastYear'].corr(EmpleadosAttrition['Yes'])"
      ],
      "metadata": {
        "colab": {
          "base_uri": "https://localhost:8080/"
        },
        "id": "GcabxfcoXems",
        "outputId": "7979254b-de79-4c69-8f3b-39810be69b7b"
      },
      "execution_count": null,
      "outputs": [
        {
          "output_type": "execute_result",
          "data": {
            "text/plain": [
              "-0.07088383377930299"
            ]
          },
          "metadata": {},
          "execution_count": 40
        }
      ]
    },
    {
      "cell_type": "code",
      "source": [
        "EmpleadosAttrition['WorkLifeBalance'].corr(EmpleadosAttrition['Yes'])"
      ],
      "metadata": {
        "colab": {
          "base_uri": "https://localhost:8080/"
        },
        "id": "olydl6rZXvXu",
        "outputId": "55037288-cfe3-4a72-eabb-c837eda01ad9"
      },
      "execution_count": null,
      "outputs": [
        {
          "output_type": "execute_result",
          "data": {
            "text/plain": [
              "-0.021722932349419282"
            ]
          },
          "metadata": {},
          "execution_count": 41
        }
      ]
    },
    {
      "cell_type": "code",
      "source": [
        "EmpleadosAttrition['YearsInCurrentRole'].corr(EmpleadosAttrition['Yes'])"
      ],
      "metadata": {
        "colab": {
          "base_uri": "https://localhost:8080/"
        },
        "id": "yw65lmq4X0im",
        "outputId": "f206eb46-4723-4e3e-be93-c2323c058337"
      },
      "execution_count": null,
      "outputs": [
        {
          "output_type": "execute_result",
          "data": {
            "text/plain": [
              "-0.2039180268902555"
            ]
          },
          "metadata": {},
          "execution_count": 42
        }
      ]
    },
    {
      "cell_type": "code",
      "source": [
        "EmpleadosAttrition['YearsSinceLastPromotion'].corr(EmpleadosAttrition['Yes'])"
      ],
      "metadata": {
        "colab": {
          "base_uri": "https://localhost:8080/"
        },
        "id": "zvFzZP4pX5u-",
        "outputId": "09642c8d-bc37-4831-8f6f-ea4948584e5d"
      },
      "execution_count": null,
      "outputs": [
        {
          "output_type": "execute_result",
          "data": {
            "text/plain": [
              "-0.06900034357702403"
            ]
          },
          "metadata": {},
          "execution_count": 43
        }
      ]
    },
    {
      "cell_type": "code",
      "source": [
        "EmpleadosAttrition['YearsAtCompany'].corr(EmpleadosAttrition['Yes'])"
      ],
      "metadata": {
        "colab": {
          "base_uri": "https://localhost:8080/"
        },
        "id": "qsnOQWLvaZ_R",
        "outputId": "3998f805-914c-4a39-dd63-36d2375345df"
      },
      "execution_count": null,
      "outputs": [
        {
          "output_type": "execute_result",
          "data": {
            "text/plain": [
              "-0.17600099666009272"
            ]
          },
          "metadata": {},
          "execution_count": 44
        }
      ]
    },
    {
      "cell_type": "code",
      "source": [
        "EmpleadosAttrition['DistanceFromHome'].corr(EmpleadosAttrition['Yes'])"
      ],
      "metadata": {
        "colab": {
          "base_uri": "https://localhost:8080/"
        },
        "id": "LYHXmBtNamNr",
        "outputId": "5cecdc4f-c7f8-4b32-908b-a07a006c5bd0"
      },
      "execution_count": null,
      "outputs": [
        {
          "output_type": "execute_result",
          "data": {
            "text/plain": [
              "0.052732159940648726"
            ]
          },
          "metadata": {},
          "execution_count": 50
        }
      ]
    },
    {
      "cell_type": "code",
      "source": [
        "EmpleadosAttrition['Non-Travel'].corr(EmpleadosAttrition['Yes']) "
      ],
      "metadata": {
        "colab": {
          "base_uri": "https://localhost:8080/"
        },
        "id": "wDCowAZSaohP",
        "outputId": "0d816323-e671-4e29-8b71-4d0d5fe8dc85"
      },
      "execution_count": null,
      "outputs": [
        {
          "output_type": "execute_result",
          "data": {
            "text/plain": [
              "-0.10069838603304206"
            ]
          },
          "metadata": {},
          "execution_count": 55
        }
      ]
    },
    {
      "cell_type": "code",
      "source": [
        "EmpleadosAttrition['Travel_Frequently'].corr(EmpleadosAttrition['Yes'])"
      ],
      "metadata": {
        "colab": {
          "base_uri": "https://localhost:8080/"
        },
        "id": "5Qy6NB3bao6r",
        "outputId": "4c78dc45-1abb-4e82-967e-5e9a3fda2522"
      },
      "execution_count": null,
      "outputs": [
        {
          "output_type": "execute_result",
          "data": {
            "text/plain": [
              "0.03538713306782459"
            ]
          },
          "metadata": {},
          "execution_count": 54
        }
      ]
    },
    {
      "cell_type": "code",
      "source": [
        "EmpleadosAttrition['Travel_Rarely'].corr(EmpleadosAttrition['Yes'])"
      ],
      "metadata": {
        "colab": {
          "base_uri": "https://localhost:8080/"
        },
        "id": "YBHppVVKapOb",
        "outputId": "777517fe-5f1e-428b-8d5a-cfafd0cbd69b"
      },
      "execution_count": null,
      "outputs": [
        {
          "output_type": "execute_result",
          "data": {
            "text/plain": [
              "0.042755214674117435"
            ]
          },
          "metadata": {},
          "execution_count": 56
        }
      ]
    },
    {
      "cell_type": "code",
      "source": [
        "EmpleadosAttrition['Human ResourcesDep'].corr(EmpleadosAttrition['Yes'])"
      ],
      "metadata": {
        "id": "z4t-hpYJapez",
        "colab": {
          "base_uri": "https://localhost:8080/"
        },
        "outputId": "50db7705-481d-45ea-b59c-7972284a4376"
      },
      "execution_count": null,
      "outputs": [
        {
          "output_type": "execute_result",
          "data": {
            "text/plain": [
              "0.023389039416125856"
            ]
          },
          "metadata": {},
          "execution_count": 57
        }
      ]
    },
    {
      "cell_type": "code",
      "source": [
        "EmpleadosAttrition['Research & Development'].corr(EmpleadosAttrition['Yes'])"
      ],
      "metadata": {
        "colab": {
          "base_uri": "https://localhost:8080/"
        },
        "id": "lNvOetalapyP",
        "outputId": "685eeeed-b957-46f8-bf88-60198254ed57"
      },
      "execution_count": null,
      "outputs": [
        {
          "output_type": "execute_result",
          "data": {
            "text/plain": [
              "-0.07226940828855233"
            ]
          },
          "metadata": {},
          "execution_count": 58
        }
      ]
    },
    {
      "cell_type": "code",
      "source": [
        "EmpleadosAttrition['Sales'].corr(EmpleadosAttrition['Yes'])"
      ],
      "metadata": {
        "colab": {
          "base_uri": "https://localhost:8080/"
        },
        "id": "mj-s0GR9aqA0",
        "outputId": "00394c9e-84c0-4294-d887-390d5cf7f5f5"
      },
      "execution_count": null,
      "outputs": [
        {
          "output_type": "execute_result",
          "data": {
            "text/plain": [
              "0.06611580032506321"
            ]
          },
          "metadata": {},
          "execution_count": 59
        }
      ]
    },
    {
      "cell_type": "code",
      "source": [
        "EmpleadosAttrition['Human Resources'].corr(EmpleadosAttrition['Yes'])"
      ],
      "metadata": {
        "id": "HMrLrID_a0wX",
        "colab": {
          "base_uri": "https://localhost:8080/"
        },
        "outputId": "0d1b9f87-21f6-4151-d249-09dbdec5af4f"
      },
      "execution_count": null,
      "outputs": [
        {
          "output_type": "execute_result",
          "data": {
            "text/plain": [
              "0.043403645119206705"
            ]
          },
          "metadata": {},
          "execution_count": 60
        }
      ]
    },
    {
      "cell_type": "code",
      "source": [
        "EmpleadosAttrition['Life Sciences'].corr(EmpleadosAttrition['Yes'])"
      ],
      "metadata": {
        "colab": {
          "base_uri": "https://localhost:8080/"
        },
        "id": "s-gIIq7za06T",
        "outputId": "216ef1de-35b8-4aa0-bb0c-010436d3667f"
      },
      "execution_count": null,
      "outputs": [
        {
          "output_type": "execute_result",
          "data": {
            "text/plain": [
              "-0.02745660825059098"
            ]
          },
          "metadata": {},
          "execution_count": 61
        }
      ]
    },
    {
      "cell_type": "code",
      "source": [
        "EmpleadosAttrition['Marketing'].corr(EmpleadosAttrition['Yes'])"
      ],
      "metadata": {
        "colab": {
          "base_uri": "https://localhost:8080/"
        },
        "id": "ILDt_CW8a1DZ",
        "outputId": "513698fc-082c-458d-faac-cd4cf6c9d655"
      },
      "execution_count": null,
      "outputs": [
        {
          "output_type": "execute_result",
          "data": {
            "text/plain": [
              "0.016768397738896077"
            ]
          },
          "metadata": {},
          "execution_count": 62
        }
      ]
    },
    {
      "cell_type": "code",
      "source": [
        "EmpleadosAttrition['Medical'].corr(EmpleadosAttrition['Yes'])"
      ],
      "metadata": {
        "colab": {
          "base_uri": "https://localhost:8080/"
        },
        "id": "To0p7QYaa_SK",
        "outputId": "61cece58-fae0-42a4-d6e3-8ed7c6580657"
      },
      "execution_count": null,
      "outputs": [
        {
          "output_type": "execute_result",
          "data": {
            "text/plain": [
              "-0.054144235672434565"
            ]
          },
          "metadata": {},
          "execution_count": 63
        }
      ]
    },
    {
      "cell_type": "code",
      "source": [
        "EmpleadosAttrition['Other'].corr(EmpleadosAttrition['Yes'])"
      ],
      "metadata": {
        "colab": {
          "base_uri": "https://localhost:8080/"
        },
        "id": "yliVuJfja_a2",
        "outputId": "46e99e4f-2c61-4e9b-e607-e1b0468563f2"
      },
      "execution_count": null,
      "outputs": [
        {
          "output_type": "execute_result",
          "data": {
            "text/plain": [
              "-0.004274735721297514"
            ]
          },
          "metadata": {},
          "execution_count": 64
        }
      ]
    },
    {
      "cell_type": "code",
      "source": [
        "EmpleadosAttrition['Technical Degree'].corr(EmpleadosAttrition['Yes'])"
      ],
      "metadata": {
        "colab": {
          "base_uri": "https://localhost:8080/"
        },
        "id": "kn_OuYbpa_jn",
        "outputId": "d0fb24e7-9f24-424c-fc3d-56b1c5e94f2a"
      },
      "execution_count": null,
      "outputs": [
        {
          "output_type": "execute_result",
          "data": {
            "text/plain": [
              "0.12910378854085475"
            ]
          },
          "metadata": {},
          "execution_count": 65
        }
      ]
    },
    {
      "cell_type": "code",
      "source": [
        "EmpleadosAttrition['Female'].corr(EmpleadosAttrition['Yes'])"
      ],
      "metadata": {
        "colab": {
          "base_uri": "https://localhost:8080/"
        },
        "id": "ByETdzUrbGzN",
        "outputId": "9bf68aa5-d606-4cc4-8a1d-d14c719c0617"
      },
      "execution_count": null,
      "outputs": [
        {
          "output_type": "execute_result",
          "data": {
            "text/plain": [
              "0.02883870932201118"
            ]
          },
          "metadata": {},
          "execution_count": 66
        }
      ]
    },
    {
      "cell_type": "code",
      "source": [
        "EmpleadosAttrition['Male'].corr(EmpleadosAttrition['Yes'])"
      ],
      "metadata": {
        "colab": {
          "base_uri": "https://localhost:8080/"
        },
        "id": "1NaGlv0fbG36",
        "outputId": "c0f966b5-ba4d-4d32-89d9-62e64354400c"
      },
      "execution_count": null,
      "outputs": [
        {
          "output_type": "execute_result",
          "data": {
            "text/plain": [
              "-0.02883870932201118"
            ]
          },
          "metadata": {},
          "execution_count": 67
        }
      ]
    },
    {
      "cell_type": "code",
      "source": [
        "EmpleadosAttrition['Divorced'].corr(EmpleadosAttrition['Yes'])"
      ],
      "metadata": {
        "colab": {
          "base_uri": "https://localhost:8080/"
        },
        "id": "LZIpihIVbHB8",
        "outputId": "aadc8332-1e3e-44c8-fa3d-6efd4b7ad4c5"
      },
      "execution_count": null,
      "outputs": [
        {
          "output_type": "execute_result",
          "data": {
            "text/plain": [
              "-0.10786945476152986"
            ]
          },
          "metadata": {},
          "execution_count": 68
        }
      ]
    },
    {
      "cell_type": "code",
      "source": [
        "EmpleadosAttrition['Married'].corr(EmpleadosAttrition['Yes'])"
      ],
      "metadata": {
        "colab": {
          "base_uri": "https://localhost:8080/"
        },
        "id": "YU2Ye5GybO0h",
        "outputId": "3a2c5e30-f3bb-43ec-fced-c21f83826f8b"
      },
      "execution_count": null,
      "outputs": [
        {
          "output_type": "execute_result",
          "data": {
            "text/plain": [
              "-0.09473381939998372"
            ]
          },
          "metadata": {},
          "execution_count": 69
        }
      ]
    },
    {
      "cell_type": "code",
      "source": [
        "EmpleadosAttrition['Single'].corr(EmpleadosAttrition['Yes'])"
      ],
      "metadata": {
        "colab": {
          "base_uri": "https://localhost:8080/"
        },
        "id": "5NLJtP8zbQlE",
        "outputId": "ef4354e4-7a16-4068-bc39-f3469d4a70d9"
      },
      "execution_count": null,
      "outputs": [
        {
          "output_type": "execute_result",
          "data": {
            "text/plain": [
              "0.20584919886483347"
            ]
          },
          "metadata": {},
          "execution_count": 70
        }
      ]
    },
    {
      "cell_type": "code",
      "source": [
        "## 12. CRe aun nuevo EmpleadosAttritionFinal con correlacion mayor a 1\n",
        "EmpleadosAttritionFinal = EmpleadosAttrition[['Age',  'EnvironmentSatisfaction','JobInvolvement','JobLevel', 'JobSatisfaction','TotalWorkingYears','YearsInCurrentRole','YearsAtCompany','Non-Travel' ,'Technical Degree','Divorced','Single','Yes']] \n",
        "EmpleadosAttritionFinal=EmpleadosAttritionFinal.rename(columns={'Yes':'Attrition'})\n",
        "EmpleadosAttritionFinal"
      ],
      "metadata": {
        "id": "Bf4tu9GpcCms"
      },
      "execution_count": null,
      "outputs": []
    },
    {
      "cell_type": "code",
      "source": [
        "from sklearn.decomposition import PCA"
      ],
      "metadata": {
        "id": "7wVlq0Ewfc0R"
      },
      "execution_count": null,
      "outputs": []
    },
    {
      "cell_type": "code",
      "source": [
        "## 12. Crea  EmpleadosAttritionPCA \n",
        "pca=PCA()\n",
        "pca.fit(EmpleadosAttritionFinal)\n",
        "##print(pca.explained_variance_ratio_)\n",
        "EmpleadosAttritionPCA =pca.explained_variance_ratio_\n",
        "EmpleadosAttritionPCA"
      ],
      "metadata": {
        "id": "8yZj2IYQffht",
        "outputId": "2e27fe94-0e52-4558-89c8-b9b01907d9cf",
        "colab": {
          "base_uri": "https://localhost:8080/"
        }
      },
      "execution_count": null,
      "outputs": [
        {
          "output_type": "execute_result",
          "data": {
            "text/plain": [
              "array([6.35906988e-01, 2.42170810e-01, 7.90467131e-02, 2.10761137e-02,\n",
              "       6.52696083e-03, 6.45549360e-03, 2.84312495e-03, 2.72618641e-03,\n",
              "       1.34300174e-03, 6.40980688e-04, 6.01446338e-04, 4.10593403e-04,\n",
              "       2.51587489e-04])"
            ]
          },
          "metadata": {},
          "execution_count": 74
        }
      ]
    },
    {
      "cell_type": "code",
      "source": [
        "## 14, Crea EmpleadosAttritionFinal.csv. \n",
        "EmpleadosAttritionFinal.to_csv(\"/content/gdrive/MyDrive/Colab Notebooks/Caracteristicas/EmpleadosAttritionFinal.csv\") "
      ],
      "metadata": {
        "id": "NAI5JQx5g3yE"
      },
      "execution_count": 81,
      "outputs": []
    }
  ]
}